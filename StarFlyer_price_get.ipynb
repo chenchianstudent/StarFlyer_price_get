{
 "cells": [
  {
   "cell_type": "code",
   "execution_count": 28,
   "metadata": {},
   "outputs": [
    {
     "name": "stdout",
     "output_type": "stream",
     "text": [
      "03.4三13,450臺幣03.5四13,450臺幣03.6五13,450臺幣03.7六5,050臺幣03.8日5,050臺幣03.9一4,550臺幣03.10二4,550臺幣\n",
      "三4三,4.13,450NT$四5四,5.13,450NT$五6五,6.13,450NT$六7六,7.5,050NT$日8日,8.5,050NT$一9一,9.4,550NT$二10二,10.4,550NT$\n",
      "03.4三13,320臺幣03.5四13,320臺幣03.6五13,320臺幣03.7六4,920臺幣03.8日4,920臺幣03.9一4,420臺幣03.10二4,420臺幣\n",
      "三4三,4.13,320NT$四5四,5.13,320NT$五6五,6.13,320NT$六7六,7.4,920NT$日8日,8.4,920NT$一9一,9.4,420NT$二10二,10.4,420NT$\n"
     ]
    }
   ],
   "source": [
    "import requests\n",
    "from bs4 import BeautifulSoup as bs\n",
    "from selenium import webdriver\n",
    "from selenium.webdriver.support.ui import Select\n",
    "from selenium.webdriver.support.select import Select\n",
    "import time\n",
    "\n",
    "url ='https://www.starflyer.jp/int_tw/'\n",
    "browser=webdriver.Chrome('D:\\webdriver\\chromedriver')\n",
    "browser.get(url) \n",
    "\n",
    "try:\n",
    "    time.sleep(2)\n",
    "    browser.find_element_by_xpath(\"//a[@class='js-aside is-devicePc']\").click() # 按下預訂機票\n",
    "    time.sleep(3)\n",
    "    browser.find_element_by_xpath(\"(//button[@data-type='em']//span)[1]\").click()  # 按下查詢\n",
    "    time.sleep(5)\n",
    "    elem = browser.page_source\n",
    "finally:\n",
    "    browser.quit()\n",
    "    x = []\n",
    "    soup = bs(elem,'html.parser')\n",
    "    for i in soup.select('.days.clearfix'):\n",
    "        sentence = i.text\n",
    "        sentence = ''.join(sentence.split())\n",
    "        print(sentence)\n"
   ]
  },
  {
   "cell_type": "code",
   "execution_count": 27,
   "metadata": {},
   "outputs": [
    {
     "name": "stdout",
     "output_type": "stream",
     "text": [
      "03.4 三 13,450 臺幣\n"
     ]
    }
   ],
   "source": [
    "demo = \"03.4 三 13,450 臺幣\"\n",
    "demo.replace(\" \", \"\")\n",
    "print(demo)"
   ]
  },
  {
   "cell_type": "code",
   "execution_count": null,
   "metadata": {},
   "outputs": [],
   "source": [
    "import tensorflow as tf\n",
    "print(tf.__version__)"
   ]
  },
  {
   "cell_type": "code",
   "execution_count": null,
   "metadata": {},
   "outputs": [],
   "source": [
    "from tensorflow.python.client import device_lib\n",
    "print(device_lib.list_local_devices())"
   ]
  },
  {
   "cell_type": "code",
   "execution_count": null,
   "metadata": {},
   "outputs": [],
   "source": []
  }
 ],
 "metadata": {
  "kernelspec": {
   "display_name": "Python 3",
   "language": "python",
   "name": "python3"
  },
  "language_info": {
   "codemirror_mode": {
    "name": "ipython",
    "version": 3
   },
   "file_extension": ".py",
   "mimetype": "text/x-python",
   "name": "python",
   "nbconvert_exporter": "python",
   "pygments_lexer": "ipython3",
   "version": "3.7.6"
  }
 },
 "nbformat": 4,
 "nbformat_minor": 4
}
